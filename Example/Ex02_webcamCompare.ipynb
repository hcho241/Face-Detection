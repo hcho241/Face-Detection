{
 "cells": [
  {
   "cell_type": "code",
   "execution_count": 1,
   "metadata": {},
   "outputs": [
    {
     "name": "stdout",
     "output_type": "stream",
     "text": [
      "Recognizing Face Please Be in sufficient Lights...\n"
     ]
    }
   ],
   "source": [
    "# It helps in identifying the faces \n",
    "import cv2, sys, numpy, os \n",
    "datasets = 'test'\n",
    "\n",
    "# Part 1: Create fisherRecognizer \n",
    "print('Recognizing Face Please Be in sufficient Lights...') \n",
    "\n",
    "# Create a list of images and a list of corresponding names \n",
    "(images, lables, names, id) = ([], [], {}, 0) \n",
    "for (subdirs, dirs, files) in os.walk(datasets): \n",
    "    for subdir in dirs: \n",
    "        names[id] = subdir \n",
    "        subjectpath = os.path.join(datasets, subdir) \n",
    "        for filename in os.listdir(subjectpath): \n",
    "            path = subjectpath + '/' + filename \n",
    "            lable = id\n",
    "            images.append(cv2.imread(path, 0)) \n",
    "            lables.append(int(lable)) \n",
    "        id += 1\n",
    "(width, height) = (130, 100) \n",
    "\n",
    "# Create a Numpy array from the two lists above \n",
    "(images, lables) = [numpy.array(lis) for lis in [images, lables]] \n",
    "\n",
    "# OpenCV trains a model from the images \n",
    "# NOTE FOR OpenCV2: remove '.face' \n",
    "model = cv2.face.LBPHFaceRecognizer_create() \n",
    "model.train(images, lables) \n",
    "\n",
    "# Part 2: Use fisherRecognizer on camera stream \n",
    "face_cascade = cv2.CascadeClassifier('haarcascade_frontalface_default.xml') \n",
    "webcam = cv2.VideoCapture(0) \n",
    "while True: \n",
    "    (_, im) = webcam.read() \n",
    "    gray = cv2.cvtColor(im, cv2.COLOR_BGR2GRAY) \n",
    "    faces = face_cascade.detectMultiScale(gray, 1.3, 5) \n",
    "    for (x, y, w, h) in faces: \n",
    "        cv2.rectangle(im, (x, y), (x + w, y + h), (255, 0, 0), 2) \n",
    "        face = gray[y:y + h, x:x + w] \n",
    "        face_resize = cv2.resize(face, (width, height)) \n",
    "        # Try to recognize the face \n",
    "        prediction = model.predict(face_resize) \n",
    "        cv2.rectangle(im, (x, y), (x + w, y + h), (0, 255, 0), 3) \n",
    "        if prediction[1] < 500: \n",
    "            cv2.putText(im, '% s - %.0f' % \n",
    "                (names[prediction[0]], prediction[1]), (x-10, y-10),cv2.FONT_HERSHEY_PLAIN, 1, (0, 255, 0)) \n",
    "        else: \n",
    "            cv2.putText(im, 'not recognized', (x-10, y-10), cv2.FONT_HERSHEY_PLAIN, 1, (0, 255, 0)) \n",
    "    cv2.imshow('OpenCV', im) \n",
    "    key = cv2.waitKey(10) \n",
    "    if key == 27: \n",
    "        break"
   ]
  },
  {
   "cell_type": "code",
   "execution_count": null,
   "metadata": {},
   "outputs": [],
   "source": []
  }
 ],
 "metadata": {
  "kernelspec": {
   "display_name": "Python 3",
   "language": "python",
   "name": "python3"
  },
  "language_info": {
   "codemirror_mode": {
    "name": "ipython",
    "version": 3
   },
   "file_extension": ".py",
   "mimetype": "text/x-python",
   "name": "python",
   "nbconvert_exporter": "python",
   "pygments_lexer": "ipython3",
   "version": "3.8.3"
  }
 },
 "nbformat": 4,
 "nbformat_minor": 4
}
