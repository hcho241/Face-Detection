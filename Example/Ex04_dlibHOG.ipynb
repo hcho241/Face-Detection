{
 "cells": [
  {
   "cell_type": "code",
   "execution_count": 1,
   "metadata": {},
   "outputs": [],
   "source": [
    "# import required packages\n",
    "import cv2\n",
    "import dlib"
   ]
  },
  {
   "cell_type": "code",
   "execution_count": 2,
   "metadata": {},
   "outputs": [],
   "source": [
    "# load input image\n",
    "image = cv2.imread(\"../yoona.jpg\")\n",
    "    \n",
    "# initialize hog + svm based face detector\n",
    "hog_face_detector = dlib.get_frontal_face_detector()"
   ]
  },
  {
   "cell_type": "code",
   "execution_count": 3,
   "metadata": {},
   "outputs": [],
   "source": [
    "img_height, img_width = image.shape[:2]\n",
    "while True : \n",
    "    # apply face detection (hog)\n",
    "    faces_hog = hog_face_detector(image, 1)\n",
    "    # loop over detected faces\n",
    "    for face in faces_hog:\n",
    "        x = face.left()\n",
    "        y = face.top()\n",
    "        w = face.right() - x\n",
    "        h = face.bottom() - y\n",
    "        # draw box over face\n",
    "        cv2.rectangle(image, (x,y), (x+w,y+h), (0,255,0), 2)\n",
    "        cv2.putText(image, \"HOG\", (img_width-50,20), cv2.FONT_HERSHEY_SIMPLEX, 0.5,(0,255,0), 2)\n",
    "    # Display the resulting frame\n",
    "    cv2.imshow('img',image)\n",
    "    if cv2.waitKey(1) & 0xFF == ord('q'): # quit \n",
    "        break\n",
    "cv2.destroyAllWindows()"
   ]
  },
  {
   "cell_type": "code",
   "execution_count": null,
   "metadata": {},
   "outputs": [],
   "source": []
  }
 ],
 "metadata": {
  "kernelspec": {
   "display_name": "Python 3",
   "language": "python",
   "name": "python3"
  },
  "language_info": {
   "codemirror_mode": {
    "name": "ipython",
    "version": 3
   },
   "file_extension": ".py",
   "mimetype": "text/x-python",
   "name": "python",
   "nbconvert_exporter": "python",
   "pygments_lexer": "ipython3",
   "version": "3.8.3"
  }
 },
 "nbformat": 4,
 "nbformat_minor": 4
}
