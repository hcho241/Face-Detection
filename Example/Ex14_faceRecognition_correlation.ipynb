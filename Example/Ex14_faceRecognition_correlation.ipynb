{
 "cells": [
  {
   "cell_type": "code",
   "execution_count": 3,
   "metadata": {},
   "outputs": [],
   "source": [
    "import cv2\n",
    "import dlib\n",
    "\n",
    "camera = cv2.VideoCapture(0)\n",
    "detector = dlib.get_frontal_face_detector()\n",
    "\n",
    "old_faces = []\n",
    "\n",
    "while True:\n",
    "    ret, image = camera.read()\n",
    "    if not ret:\n",
    "        break\n",
    "\n",
    "    image = cv2.resize(image, (0, 0), fx=0.5, fy=0.5)\n",
    "\n",
    "    faces = detector(image, 1)\n",
    "    if len(old_faces) < len(faces):\n",
    "        old_faces = []\n",
    "        for face in faces:\n",
    "            tracker = dlib.correlation_tracker()\n",
    "            tracker.start_track(image, face)\n",
    "            old_faces.append(tracker)\n",
    "    else:\n",
    "        for i, tracker in enumerate(old_faces):\n",
    "            quality = tracker.update(image)\n",
    "            if quality > 7:\n",
    "                pos = tracker.get_position()\n",
    "                pos = dlib.rectangle(\n",
    "                    int(pos.left()),\n",
    "                    int(pos.top()),\n",
    "                    int(pos.right()),\n",
    "                    int(pos.bottom()),\n",
    "                )\n",
    "                cv2.rectangle(image, (pos.left(), pos.top()), (pos.right(), pos.bottom()),\n",
    "                              (100, 200, 100))\n",
    "            else:\n",
    "                old_faces.pop(i)\n",
    "\n",
    "    cv2.imshow(\"image\", image)\n",
    "    if cv2.waitKey(1) & 0xFF == ord('q'):\n",
    "        break\n",
    "camera.release()\n",
    "cv2.destroyAllWindows()"
   ]
  },
  {
   "cell_type": "code",
   "execution_count": null,
   "metadata": {},
   "outputs": [],
   "source": []
  }
 ],
 "metadata": {
  "kernelspec": {
   "display_name": "Python 3",
   "language": "python",
   "name": "python3"
  },
  "language_info": {
   "codemirror_mode": {
    "name": "ipython",
    "version": 3
   },
   "file_extension": ".py",
   "mimetype": "text/x-python",
   "name": "python",
   "nbconvert_exporter": "python",
   "pygments_lexer": "ipython3",
   "version": "3.8.3"
  }
 },
 "nbformat": 4,
 "nbformat_minor": 4
}
