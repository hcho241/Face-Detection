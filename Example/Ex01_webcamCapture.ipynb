{
 "cells": [
  {
   "cell_type": "code",
   "execution_count": 2,
   "metadata": {},
   "outputs": [],
   "source": [
    "# Creating database \n",
    "# It captures images and stores them in datasets \n",
    "# folder under the folder name of sub_data \n",
    "import cv2, sys, numpy, os \n",
    "\n",
    "# All the faces data will be \n",
    "# present this folder \n",
    "datasets = 'test'\n",
    "\n",
    "# These are sub data sets of folder, \n",
    "# for my faces I've used my name you can \n",
    "# change the label here \n",
    "sub_data = 'linda'\n",
    "\n",
    "path = os.path.join(datasets, sub_data) \n",
    "if not os.path.isdir(path): \n",
    "    os.mkdir(path) \n",
    "\n",
    "# defining the size of images \n",
    "(width, height) = (130, 100)\n",
    "\n",
    "#'0' is used for my webcam, \n",
    "# if you've any other camera \n",
    "# attached use '1' like this \n",
    "face_cascade = cv2.CascadeClassifier('haarcascade_frontalface_default.xml') \n",
    "webcam = cv2.VideoCapture(0) \n",
    "\n",
    "# The program loops until it has 30 images of the face. \n",
    "count = 1\n",
    "while count < 30: \n",
    "    (_, im) = webcam.read() \n",
    "    gray = cv2.cvtColor(im, cv2.COLOR_BGR2GRAY) \n",
    "    faces = face_cascade.detectMultiScale(gray, 1.3, 4) \n",
    "    for (x, y, w, h) in faces: \n",
    "        cv2.rectangle(im, (x, y), (x + w, y + h), (255, 0, 0), 2) \n",
    "        face = gray[y:y + h, x:x + w] \n",
    "        face_resize = cv2.resize(face, (width, height)) \n",
    "        cv2.imwrite('% s/% s.png' % (path, count), face_resize) \n",
    "    count += 1\n",
    "\n",
    "    cv2.imshow('OpenCV', im) \n",
    "    key = cv2.waitKey(10) \n",
    "    if key == 27: \n",
    "        break\n"
   ]
  },
  {
   "cell_type": "code",
   "execution_count": null,
   "metadata": {},
   "outputs": [],
   "source": []
  }
 ],
 "metadata": {
  "kernelspec": {
   "display_name": "Python 3",
   "language": "python",
   "name": "python3"
  },
  "language_info": {
   "codemirror_mode": {
    "name": "ipython",
    "version": 3
   },
   "file_extension": ".py",
   "mimetype": "text/x-python",
   "name": "python",
   "nbconvert_exporter": "python",
   "pygments_lexer": "ipython3",
   "version": "3.8.3"
  }
 },
 "nbformat": 4,
 "nbformat_minor": 4
}
