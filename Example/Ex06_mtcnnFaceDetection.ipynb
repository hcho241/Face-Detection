{
 "cells": [
  {
   "cell_type": "code",
   "execution_count": 1,
   "metadata": {},
   "outputs": [],
   "source": [
    "from mtcnn import MTCNN\n",
    "import cv2"
   ]
  },
  {
   "cell_type": "code",
   "execution_count": 5,
   "metadata": {},
   "outputs": [
    {
     "name": "stdout",
     "output_type": "stream",
     "text": [
      "WARNING:tensorflow:5 out of the last 44 calls to <function Model.make_predict_function.<locals>.predict_function at 0x000001B25AB294C0> triggered tf.function retracing. Tracing is expensive and the excessive number of tracings could be due to (1) creating @tf.function repeatedly in a loop, (2) passing tensors with different shapes, (3) passing Python objects instead of tensors. For (1), please define your @tf.function outside of the loop. For (2), @tf.function has experimental_relax_shapes=True option that relaxes argument shapes that can avoid unnecessary retracing. For (3), please refer to https://www.tensorflow.org/tutorials/customization/performance#python_or_tensor_args and https://www.tensorflow.org/api_docs/python/tf/function for  more details.\n",
      "WARNING:tensorflow:5 out of the last 11 calls to <function Model.make_predict_function.<locals>.predict_function at 0x000001B25AB29820> triggered tf.function retracing. Tracing is expensive and the excessive number of tracings could be due to (1) creating @tf.function repeatedly in a loop, (2) passing tensors with different shapes, (3) passing Python objects instead of tensors. For (1), please define your @tf.function outside of the loop. For (2), @tf.function has experimental_relax_shapes=True option that relaxes argument shapes that can avoid unnecessary retracing. For (3), please refer to https://www.tensorflow.org/tutorials/customization/performance#python_or_tensor_args and https://www.tensorflow.org/api_docs/python/tf/function for  more details.\n"
     ]
    }
   ],
   "source": [
    "# Load the detector\n",
    "detector = MTCNN()\n",
    "# read the image\n",
    "webcam = cv2.VideoCapture(0)\n",
    "while True:\n",
    "    ret, frame = webcam.read()\n",
    "    frame = cv2.resize(frame, (600, 400))\n",
    "    faces = detector.detect_faces(frame)\n",
    "    if faces :\n",
    "        box = faces[0]['box']\n",
    "        conf = faces[0]['confidence'] * 100\n",
    "        x, y, w, h = box[0], box[1], box[2], box[3]\n",
    "        if conf > 80:\n",
    "            cv2.rectangle(frame, (x, y), (x+w, y+h), (255, 0, 0), 1)\n",
    "            answer = \"Linda {:.2f}\".format(conf)\n",
    "            cv2.putText(frame, answer, (x-10, y-10), cv2.FONT_HERSHEY_PLAIN, 1, (0, 255, 0)) \n",
    "    # show webcam\n",
    "    cv2.imshow(\"Webcam\", frame)\n",
    "    # Exit when q is pressed\n",
    "    if cv2.waitKey(1) & 0xFF == ord('q'): # quit \n",
    "        break\n",
    "# When everything done, release the video capture and video write objects\n",
    "webcam.release()\n",
    "# Close all windows\n",
    "cv2.destroyAllWindows()"
   ]
  },
  {
   "cell_type": "code",
   "execution_count": null,
   "metadata": {},
   "outputs": [],
   "source": []
  }
 ],
 "metadata": {
  "kernelspec": {
   "display_name": "Python 3",
   "language": "python",
   "name": "python3"
  },
  "language_info": {
   "codemirror_mode": {
    "name": "ipython",
    "version": 3
   },
   "file_extension": ".py",
   "mimetype": "text/x-python",
   "name": "python",
   "nbconvert_exporter": "python",
   "pygments_lexer": "ipython3",
   "version": "3.8.3"
  }
 },
 "nbformat": 4,
 "nbformat_minor": 4
}
