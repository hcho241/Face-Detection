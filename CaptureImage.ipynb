{
 "cells": [
  {
   "cell_type": "code",
   "execution_count": 1,
   "metadata": {},
   "outputs": [],
   "source": [
    "import os, sys\n",
    "import cv2\n",
    "import cvlib as cv"
   ]
  },
  {
   "cell_type": "code",
   "execution_count": 2,
   "metadata": {},
   "outputs": [
    {
     "name": "stdout",
     "output_type": "stream",
     "text": [
      "What's your name? hy_mask\n",
      "Directory ./test/hy_mask\n",
      "Directory Created\n"
     ]
    }
   ],
   "source": [
    "# start webcam\n",
    "webcam = cv2.VideoCapture(0)\n",
    "name = input(\"What's your name? \")\n",
    "dirName = \"./test/\" + name\n",
    "print('Directory ' + dirName)\n",
    "if not os.path.exists(dirName):\n",
    "    os.makedirs(dirName)\n",
    "    print(\"Directory Created\")\n",
    "else:\n",
    "    print(\"Name already exists\")\n",
    "    sys.exit()\n",
    "    \n",
    "# defining the size of images \n",
    "#(width, height) = (224, 224)\n",
    "(width, height) = (130, 100)\n",
    "face_cascade = cv2.CascadeClassifier('haarcascade_frontalface_default.xml') \n",
    "count = 1\n",
    "while count < 30 :\n",
    "    # Capture frame-by-frame\n",
    "    ret, frame = webcam.read()\n",
    "    gray = cv2.cvtColor(frame, cv2.COLOR_BGR2GRAY) \n",
    "    faces = face_cascade.detectMultiScale(gray, 1.3, 5) \n",
    "    # Draw rectangle around the faces & eye\n",
    "    for face in faces :\n",
    "        x, y, w, h = face[0], face[1], face[2], face[3]\n",
    "        cv2.rectangle(frame, (x,y), (w,h), (255,0,0), 2)\n",
    "        face = gray[y:y + h, x:x + w] \n",
    "        face_resize = cv2.resize(face, (width, height)) \n",
    "        fileName = dirName + \"/\" + name + str(count) + \".jpg\"\n",
    "        cv2.imwrite(fileName, face_resize)\n",
    "    count += 1    \n",
    "    # Display the resulting frame\n",
    "    cv2.imshow('Webcam', frame)\n",
    "    if cv2.waitKey(1) & 0xFF == ord('q'): # quit \n",
    "        break\n",
    "        count = 0 # reset count\n",
    "webcam.release()\n",
    "count = 0 # reset count \n",
    "cv2.destroyAllWindows()"
   ]
  },
  {
   "cell_type": "code",
   "execution_count": null,
   "metadata": {},
   "outputs": [],
   "source": []
  }
 ],
 "metadata": {
  "kernelspec": {
   "display_name": "Python 3",
   "language": "python",
   "name": "python3"
  },
  "language_info": {
   "codemirror_mode": {
    "name": "ipython",
    "version": 3
   },
   "file_extension": ".py",
   "mimetype": "text/x-python",
   "name": "python",
   "nbconvert_exporter": "python",
   "pygments_lexer": "ipython3",
   "version": "3.8.3"
  }
 },
 "nbformat": 4,
 "nbformat_minor": 4
}
