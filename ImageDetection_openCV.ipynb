{
 "cells": [
  {
   "cell_type": "code",
   "execution_count": 1,
   "metadata": {},
   "outputs": [],
   "source": [
    "import cv2"
   ]
  },
  {
   "cell_type": "code",
   "execution_count": 2,
   "metadata": {},
   "outputs": [
    {
     "data": {
      "text/plain": [
       "'\\n# cascade only face\\nface_cascade = cv2.CascadeClassifier(\\'haarcascade_frontalface_default.xml\\')\\n\\n# Read the input image\\n#img = cv2.imread(\\'test.jpg\\') # single person\\nimg = cv2.imread(\\'group.jpg\\') # group of people\\n\\n# Convert into grayscale\\ngray = cv2.cvtColor(img, cv2.COLOR_BGR2GRAY)\\n\\n# Detect faces\\nfaces = face_cascade.detectMultiScale(img, 1.3, 5) # input image, scale factor, minNeighbors\\n\\n# Draw rectangle around the faces\\nfor (x, y, w, h) in faces: \\n    # (255. 0. 0) is the color of the rectangle / 2 is the thickness of the line\\n    cv2.rectangle(img, (x, y), (x+w, y+h), (255, 0, 0), 2)\\n    \\n# Display the output\\ncv2.imshow(\"img\", img) \\ncv2.waitKey() # keep the window open until we press a key\\nprint(\"Face Detection Succeeded\") # close the window \\n'"
      ]
     },
     "execution_count": 2,
     "metadata": {},
     "output_type": "execute_result"
    }
   ],
   "source": [
    "'''\n",
    "# cascade only face\n",
    "face_cascade = cv2.CascadeClassifier('haarcascade_frontalface_default.xml')\n",
    "\n",
    "# Read the input image\n",
    "#img = cv2.imread('test.jpg') # single person\n",
    "img = cv2.imread('group.jpg') # group of people\n",
    "\n",
    "# Convert into grayscale\n",
    "gray = cv2.cvtColor(img, cv2.COLOR_BGR2GRAY)\n",
    "\n",
    "# Detect faces\n",
    "faces = face_cascade.detectMultiScale(img, 1.3, 5) # input image, scale factor, minNeighbors\n",
    "\n",
    "# Draw rectangle around the faces\n",
    "for (x, y, w, h) in faces: \n",
    "    # (255. 0. 0) is the color of the rectangle / 2 is the thickness of the line\n",
    "    cv2.rectangle(img, (x, y), (x+w, y+h), (255, 0, 0), 2)\n",
    "    \n",
    "# Display the output\n",
    "cv2.imshow(\"img\", img) \n",
    "cv2.waitKey() # keep the window open until we press a key\n",
    "print(\"Face Detection Succeeded\") # close the window \n",
    "'''"
   ]
  },
  {
   "cell_type": "code",
   "execution_count": 4,
   "metadata": {},
   "outputs": [],
   "source": [
    "# cascase both face & eye \n",
    "face_cascade = cv2.CascadeClassifier('haarcascade_frontalface_default.xml')\n",
    "eye_cascade = cv2.CascadeClassifier('haarcascade_eye.xml')\n",
    "\n",
    "# Read the input image\n",
    "img = cv2.imread('group.jpg') # single person\n",
    "#img = cv2.imread('group.jpg') # group of people\n",
    "gray = cv2.cvtColor(img, cv2.COLOR_BGR2GRAY) # Convert into grayscale\n",
    "\n",
    "# Detect faces \n",
    "faces = face_cascade.detectMultiScale(gray, 1.3, 5)\n",
    "\n",
    "# Draw rectangle around the faces & eye\n",
    "for (x,y,w,h) in faces:\n",
    "    cv2.rectangle(img,(x,y),(x+w,y+h),(255,0,0),2)\n",
    "    roi_gray = gray[y:y+h, x:x+w]\n",
    "    roi_color = img[y:y+h, x:x+w]\n",
    "    eyes = eye_cascade.detectMultiScale(roi_gray)\n",
    "    for (ex,ey,ew,eh) in eyes:\n",
    "        cv2.rectangle(roi_color,(ex,ey),(ex+ew,ey+eh),(0,255,0),2)\n",
    "\n",
    "# Display the output\n",
    "cv2.imshow('img',img)\n",
    "cv2.waitKey(0) # keep the window open until we press a key\n",
    "cv2.destroyAllWindows() # close the window "
   ]
  },
  {
   "cell_type": "code",
   "execution_count": null,
   "metadata": {},
   "outputs": [],
   "source": []
  }
 ],
 "metadata": {
  "kernelspec": {
   "display_name": "Python 3",
   "language": "python",
   "name": "python3"
  },
  "language_info": {
   "codemirror_mode": {
    "name": "ipython",
    "version": 3
   },
   "file_extension": ".py",
   "mimetype": "text/x-python",
   "name": "python",
   "nbconvert_exporter": "python",
   "pygments_lexer": "ipython3",
   "version": "3.8.3"
  }
 },
 "nbformat": 4,
 "nbformat_minor": 4
}
