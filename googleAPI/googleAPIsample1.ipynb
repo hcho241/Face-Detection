{
 "cells": [
  {
   "cell_type": "code",
   "execution_count": 2,
   "metadata": {},
   "outputs": [
    {
     "name": "stdout",
     "output_type": "stream",
     "text": [
      "Please visit this URL to authorize this application: https://accounts.google.com/o/oauth2/auth?response_type=code&client_id=747560712290-u1e5be66n4uuvca5go131h8ftc0ojjfk.apps.googleusercontent.com&redirect_uri=http%3A%2F%2Flocalhost%3A61051%2F&scope=https%3A%2F%2Fwww.googleapis.com%2Fauth%2Fdrive.metadata.readonly&state=rjiFQVdoOko7DKJijsZuJP60KUVPVt&access_type=offline\n",
      "Files:\n",
      "120320~ (1IHBD8HeexFo7V0btMnkVgjeakhlhZSQlMzm3luzDU1I)\n",
      "112520~ (1F97jmUykReTb3jXaLmlrUkePCw1wyCLPaVPWmbpYIBQ)\n",
      "101220~ LoginProject (1BsJNegjJVoEC2uP1zI-tfN4y9kSHUi4lVtABQCdo8wI)\n",
      "실행 영상 (18un1SmX0SLBexQF78y9R38l-cuUoeCDL)\n",
      "112520~ Time Stamp (1Xqpeiwqm-iR3eYk0PU6ctba-rdl84kRa6qYZMXQlpS8)\n",
      "Review : Keras 기반 Deep Learning (1jodJkYaK2-osRhEpyKHdJawNkpn2eZDCp5rvidoaNqk)\n",
      "케라스기반 딥러닝 개발 배포자료(20_11).pdf (1qkXReeCCc3ElcLA5tmR9zJkq6KRaS1JB)\n",
      "20201202.txt (14fhSE5RJnuRJOnrkr0LeT6pxC4wceVjl)\n",
      "20201201.txt (1r4fmvAvceVlKl4rKdYBr3UVYHqQsLSlw)\n",
      "20201130-1.txt (15TAJ9U1asN8ruw8LRJ17V91egplWUbmx)\n"
     ]
    }
   ],
   "source": [
    "from __future__ import print_function\n",
    "import pickle\n",
    "import os.path\n",
    "from googleapiclient.discovery import build\n",
    "from google_auth_oauthlib.flow import InstalledAppFlow\n",
    "from google.auth.transport.requests import Request\n",
    "\n",
    "# If modifying these scopes, delete the file token.pickle.\n",
    "SCOPES = ['https://www.googleapis.com/auth/drive.metadata.readonly']\n",
    "\n",
    "def main():\n",
    "    \"\"\"Shows basic usage of the Drive v3 API.\n",
    "    Prints the names and ids of the first 10 files the user has access to.\n",
    "    \"\"\"\n",
    "    creds = None\n",
    "    # The file token.pickle stores the user's access and refresh tokens, and is\n",
    "    # created automatically when the authorization flow completes for the first\n",
    "    # time.\n",
    "    if os.path.exists('token.pickle'):\n",
    "        with open('token.pickle', 'rb') as token:\n",
    "            creds = pickle.load(token)\n",
    "    # If there are no (valid) credentials available, let the user log in.\n",
    "    if not creds or not creds.valid:\n",
    "        if creds and creds.expired and creds.refresh_token:\n",
    "            creds.refresh(Request())\n",
    "        else:\n",
    "            flow = InstalledAppFlow.from_client_secrets_file(\n",
    "                'credentials.json', SCOPES)\n",
    "            creds = flow.run_local_server(port=0)\n",
    "        # Save the credentials for the next run\n",
    "        with open('token.pickle', 'wb') as token:\n",
    "            pickle.dump(creds, token)\n",
    "\n",
    "    service = build('drive', 'v3', credentials=creds)\n",
    "\n",
    "    # Call the Drive v3 API\n",
    "    results = service.files().list(\n",
    "        pageSize=10, fields=\"nextPageToken, files(id, name)\").execute()\n",
    "    items = results.get('files', [])\n",
    "\n",
    "    if not items:\n",
    "        print('No files found.')\n",
    "    else:\n",
    "        print('Files:')\n",
    "        for item in items:\n",
    "            print(u'{0} ({1})'.format(item['name'], item['id']))\n",
    "\n",
    "if __name__ == '__main__':\n",
    "    main()"
   ]
  },
  {
   "cell_type": "code",
   "execution_count": null,
   "metadata": {},
   "outputs": [],
   "source": []
  }
 ],
 "metadata": {
  "kernelspec": {
   "display_name": "Python 3",
   "language": "python",
   "name": "python3"
  },
  "language_info": {
   "codemirror_mode": {
    "name": "ipython",
    "version": 3
   },
   "file_extension": ".py",
   "mimetype": "text/x-python",
   "name": "python",
   "nbconvert_exporter": "python",
   "pygments_lexer": "ipython3",
   "version": "3.8.3"
  }
 },
 "nbformat": 4,
 "nbformat_minor": 4
}
