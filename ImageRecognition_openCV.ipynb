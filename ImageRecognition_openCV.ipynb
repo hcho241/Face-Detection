{
 "cells": [
  {
   "cell_type": "code",
   "execution_count": 1,
   "metadata": {},
   "outputs": [],
   "source": [
    "import cv2\n",
    "import cvlib as cv\n",
    "import numpy as np"
   ]
  },
  {
   "cell_type": "code",
   "execution_count": 2,
   "metadata": {},
   "outputs": [
    {
     "name": "stdout",
     "output_type": "stream",
     "text": [
      "[INFO] Initializing gender detection model ..\n",
      "label ['male', 'female']\n",
      "confidence [0.9778632  0.02213678]\n",
      "percentage 97.78631925582886\n"
     ]
    }
   ],
   "source": [
    "# Read the input image\n",
    "img = cv2.imread('yoona.jpg') # single person \n",
    "# resize image\n",
    "img = cv2.resize(img, (400, 400), interpolation = cv2.INTER_AREA)\n",
    "\n",
    "# Detect faces \n",
    "# return the bounding box corners and corresponding confidence for all the faces detected\n",
    "faces, confidences = cv.detect_face(img) \n",
    "\n",
    "#print('faces', faces)\n",
    "#print('confidences', confidences)\n",
    "\n",
    "# Draw rectangle around the faces & eye\n",
    "for face in faces:\n",
    "    x, y, w, h = face[0], face[1], face[2], face[3]\n",
    "    cv2.rectangle(img, (x,y), (w,h), (255,0,0), 2)\n",
    "    face_copy = np.copy(img[y:h, x:w]) # return an array copy of the given object\n",
    "    # return the labels (man, woman) and associated probabilities\n",
    "    (label, confidence) = cv.detect_gender(face_copy) # Detect gender\n",
    "    print('label', label) # male, female\n",
    "    print('confidence', confidence) # probability\n",
    "\n",
    "    index = np.argmax(confidence) # get index of max confidence\n",
    "    percentage = np.max(confidence) * 100 # get max confidence\n",
    "    print('percentage', percentage)\n",
    "    \n",
    "    answer = \"{} {:.3f}%\".format(label[index], percentage)\n",
    "    cv2.putText(img, answer, (x, y+30), cv2.FONT_HERSHEY_SIMPLEX, 1, (255,0,0), 2)\n",
    "    \n",
    "# Display the output\n",
    "cv2.imshow('img',img)\n",
    "cv2.waitKey(0) # keep the window open until we press a key\n",
    "cv2.destroyAllWindows() # close the window "
   ]
  },
  {
   "cell_type": "code",
   "execution_count": null,
   "metadata": {},
   "outputs": [],
   "source": []
  }
 ],
 "metadata": {
  "kernelspec": {
   "display_name": "Python 3",
   "language": "python",
   "name": "python3"
  },
  "language_info": {
   "codemirror_mode": {
    "name": "ipython",
    "version": 3
   },
   "file_extension": ".py",
   "mimetype": "text/x-python",
   "name": "python",
   "nbconvert_exporter": "python",
   "pygments_lexer": "ipython3",
   "version": "3.8.3"
  }
 },
 "nbformat": 4,
 "nbformat_minor": 4
}
