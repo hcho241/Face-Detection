{
 "cells": [
  {
   "cell_type": "code",
   "execution_count": 1,
   "metadata": {},
   "outputs": [],
   "source": [
    "import cv2\n",
    "import cvlib as cv\n",
    "import numpy as np"
   ]
  },
  {
   "cell_type": "code",
   "execution_count": 2,
   "metadata": {},
   "outputs": [
    {
     "name": "stdout",
     "output_type": "stream",
     "text": [
      "[INFO] Initializing gender detection model ..\n"
     ]
    }
   ],
   "source": [
    "# start webcam \n",
    "webcam = cv2.VideoCapture(0)\n",
    "while True :\n",
    "    # Capture frame-by-frame\n",
    "    ret, frame = webcam.read()\n",
    "    gray = cv2.cvtColor(frame, cv2.COLOR_BGR2GRAY)\n",
    "    faces, confidences = cv.detect_face(frame) \n",
    "    # Draw rectangle around the faces & eye\n",
    "    for face in faces:\n",
    "        x, y, w, h = face[0], face[1], face[2], face[3]\n",
    "        cv2.rectangle(frame, (x,y), (w,h), (255,0,0), 2)\n",
    "        face_copy = np.copy(frame[y:h, x:w]) # return an array copy of the given object\n",
    "        # return the labels (man, woman) and associated probabilities\n",
    "        (label, confidence) = cv.detect_gender(face_copy) # Detect gender\n",
    "        index = np.argmax(confidence) # get index of max confidence\n",
    "        percentage = np.max(confidence) * 100 # get max confidence\n",
    "        #print('percentage', percentage)\n",
    "        answer = \"{} {:.3f}%\".format(label[index], percentage)\n",
    "        cv2.putText(frame, answer, (x, y+30), cv2.FONT_HERSHEY_SIMPLEX, 1, (255,0,0), 2)\n",
    "    # Display the resulting frame\n",
    "    cv2.imshow('Webcam', frame)\n",
    "    if cv2.waitKey(1) & 0xFF == ord('q'): # quit \n",
    "        break\n",
    "webcam.release()\n",
    "cv2.destroyAllWindows()"
   ]
  },
  {
   "cell_type": "code",
   "execution_count": null,
   "metadata": {},
   "outputs": [],
   "source": []
  }
 ],
 "metadata": {
  "kernelspec": {
   "display_name": "Python 3",
   "language": "python",
   "name": "python3"
  },
  "language_info": {
   "codemirror_mode": {
    "name": "ipython",
    "version": 3
   },
   "file_extension": ".py",
   "mimetype": "text/x-python",
   "name": "python",
   "nbconvert_exporter": "python",
   "pygments_lexer": "ipython3",
   "version": "3.8.3"
  }
 },
 "nbformat": 4,
 "nbformat_minor": 4
}
