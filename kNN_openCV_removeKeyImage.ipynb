{
 "cells": [
  {
   "cell_type": "code",
   "execution_count": 1,
   "metadata": {},
   "outputs": [],
   "source": [
    "# ===== Import necessary libraries =====\n",
    "import cv2\n",
    "import numpy as np\n",
    "import os, sys\n",
    "import dlib\n",
    "import glob\n",
    "import face_recognition\n",
    "from skimage import io\n",
    "import time "
   ]
  },
  {
   "cell_type": "code",
   "execution_count": 2,
   "metadata": {},
   "outputs": [],
   "source": [
    "# Creating face_cascade and eye_cascade objects\n",
    "face_cascade = cv2.CascadeClassifier(\"haarcascade_frontalface_default.xml\")\n",
    "eye_cascade = cv2.CascadeClassifier(\"haarcascade_eye.xml\")"
   ]
  },
  {
   "cell_type": "code",
   "execution_count": 17,
   "metadata": {},
   "outputs": [
    {
     "name": "stdout",
     "output_type": "stream",
     "text": [
      "knn_dlib/hyFS\\hyFS_1.jpg\n",
      "knn_dlib/hyFS\\hyFS_10.jpg\n",
      "knn_dlib/hyFS\\hyFS_11.jpg\n",
      "knn_dlib/hyFS\\hyFS_12.jpg\n",
      "knn_dlib/hyFS\\hyFS_13.jpg\n",
      "knn_dlib/hyFS\\hyFS_14.jpg\n",
      "knn_dlib/hyFS\\hyFS_15.jpg\n",
      "knn_dlib/hyFS\\hyFS_16.jpg\n",
      "knn_dlib/hyFS\\hyFS_17.jpg\n",
      "knn_dlib/hyFS\\hyFS_18.jpg\n",
      "knn_dlib/hyFS\\hyFS_19.jpg\n",
      "knn_dlib/hyFS\\hyFS_2.jpg\n",
      "knn_dlib/hyFS\\hyFS_20.jpg\n",
      "knn_dlib/hyFS\\hyFS_21.jpg\n",
      "knn_dlib/hyFS\\hyFS_22.jpg\n",
      "knn_dlib/hyFS\\hyFS_23.jpg\n",
      "knn_dlib/hyFS\\hyFS_24.jpg\n",
      "knn_dlib/hyFS\\hyFS_25.jpg\n",
      "knn_dlib/hyFS\\hyFS_26.jpg\n",
      "knn_dlib/hyFS\\hyFS_27.jpg\n",
      "knn_dlib/hyFS\\hyFS_28.jpg\n",
      "knn_dlib/hyFS\\hyFS_29.jpg\n",
      "knn_dlib/hyFS\\hyFS_3.jpg\n",
      "knn_dlib/hyFS\\hyFS_30.jpg\n",
      "knn_dlib/hyFS\\hyFS_4.jpg\n",
      "knn_dlib/hyFS\\hyFS_5.jpg\n",
      "knn_dlib/hyFS\\hyFS_6.jpg\n",
      "knn_dlib/hyFS\\hyFS_7.jpg\n",
      "knn_dlib/hyFS\\hyFS_8.jpg\n",
      "knn_dlib/hyFS\\hyFS_9.jpg\n"
     ]
    }
   ],
   "source": [
    "# load each image in folder \n",
    "filenames = [img for img in glob.glob(\"knn_dlib/hyFS/*.jpg\")]\n",
    "\n",
    "filenames.sort() # ADD THIS LINE\n",
    "\n",
    "images = []\n",
    "for img in filenames:\n",
    "    n = cv2.imread(img)\n",
    "    # Converting the image into grayscale\n",
    "    gray = cv2.cvtColor(n, cv2.COLOR_BGR2GRAY)\n",
    "    # Creating variable faces\n",
    "    faces = face_cascade.detectMultiScale (gray, 1.3, 5)\n",
    "    for face in faces:\n",
    "        x, y, w, h = face\n",
    "        #cv2.rectangle(n, (x,y) ,(x+w, y+h), (0,255,0), 3)\n",
    "    #cv2.imshow(\"img\", n)\n",
    "    #cv2.waitKey(0) # keep the window open until we press a key\n",
    "    #cv2.destroyAllWindows() # close the window \n",
    "    # Creating two regions of interest\n",
    "    roi_gray = gray[y:(y+h), x:(x+w)]\n",
    "    roi_color = n[y:(y+h), x:(x+w)]\n",
    "    # Creating variable eyes\n",
    "    eyes = eye_cascade.detectMultiScale(roi_gray, 1.1, 4)\n",
    "    index = 0\n",
    "    # Creating for loop in order to divide one eye from another\n",
    "    for (ex , ey,  ew,  eh) in eyes:\n",
    "        if index == 0:\n",
    "            eye_1 = (ex, ey, ew, eh)\n",
    "        elif index == 1:\n",
    "            eye_2 = (ex, ey, ew, eh)\n",
    "        # Drawing rectangles around the eyes\n",
    "        #cv2.rectangle(roi_color, (ex,ey) ,(ex+ew, ey+eh), (0,0,255), 3)\n",
    "        index = index + 1\n",
    "    #cv2.imshow(\"img3\", n)\n",
    "    #cv2.waitKey(0) # keep the window open until we press a key\n",
    "    #cv2.destroyAllWindows() # close the window \n",
    "    \n",
    "    if eye_1[0] < eye_2[0] :\n",
    "        left_eye = eye_1\n",
    "        right_eye = eye_2\n",
    "    else :\n",
    "        left_eye = eye_2\n",
    "        right_eye = eye_1\n",
    "        \n",
    "    # Calculating coordinates of a central points of the rectangles\n",
    "    left_eye_center = (int(left_eye[0] + (left_eye[2] / 2)), int(left_eye[1] + (left_eye[3] / 2)))\n",
    "    left_eye_x = left_eye_center[0] \n",
    "    left_eye_y = left_eye_center[1]\n",
    "\n",
    "    right_eye_center = (int(right_eye[0] + (right_eye[2] / 2)), int(right_eye[1] + (right_eye[3] / 2)))\n",
    "    right_eye_x = right_eye_center[0]\n",
    "    right_eye_y = right_eye_center[1]\n",
    "\n",
    "    #cv2.circle(roi_color, left_eye_center, 5, (255, 0, 0) , -1)\n",
    "    #cv2.circle(roi_color, right_eye_center, 5, (255, 0, 0) , -1)\n",
    "    #cv2.line(roi_color,right_eye_center, left_eye_center,(0,200,200),3)\n",
    "    \n",
    "    if left_eye_y > right_eye_y :\n",
    "        A = (right_eye_x, left_eye_y)\n",
    "        # Integer -1 indicates that the image will rotate in the clockwise direction\n",
    "        direction = -1 \n",
    "    else :\n",
    "        A = (left_eye_x, right_eye_y)\n",
    "        # Integer 1 indicates that image will rotate in the counter clockwise  \n",
    "        # direction\n",
    "        direction = 1 \n",
    "\n",
    "    #cv2.circle(roi_color, A, 5, (255, 0, 0) , -1)\n",
    "\n",
    "    #cv2.line(roi_color,right_eye_center, left_eye_center,(0,200,200),3)\n",
    "    #cv2.line(roi_color,left_eye_center, A,(0,200,200),3)\n",
    "    #cv2.line(roi_color,right_eye_center, A,(0,200,200),3)\n",
    "    #cv2.imshow(\"img4\", n)\n",
    "    #cv2.waitKey(0) # keep the window open until we press a key\n",
    "    #cv2.destroyAllWindows() # close the window\n",
    "    \n",
    "    delta_x = right_eye_x - left_eye_x\n",
    "    delta_y = right_eye_y - left_eye_y\n",
    "    angle = np.arctan(delta_y / delta_x)\n",
    "    angle = (angle * 180) / np.pi\n",
    "    # Width and height of the image\n",
    "    h, w = n.shape[:2]\n",
    "    # Calculating a center point of the image\n",
    "    # Integer division \"//\"\" ensures that we receive whole numbers\n",
    "    center = (w // 2, h // 2)\n",
    "    # Defining a matrix M and calling\n",
    "    # cv2.getRotationMatrix2D method\n",
    "    M = cv2.getRotationMatrix2D(center, (angle), 1.0)\n",
    "    # Applying the rotation to our image using the\n",
    "    # cv2.warpAffine method\n",
    "    rotated = cv2.warpAffine(n, M, (w, h))\n",
    "    cv2.imshow(\"rotated\", rotated)\n",
    "    cv2.waitKey(0) # keep the window open until we press a key\n",
    "    cv2.destroyAllWindows() # close the window \n",
    "    \n",
    "    images.append(n)\n",
    "    print (img)"
   ]
  },
  {
   "cell_type": "markdown",
   "metadata": {},
   "source": [
    "### Load sample image"
   ]
  },
  {
   "cell_type": "code",
   "execution_count": 40,
   "metadata": {},
   "outputs": [],
   "source": [
    "# Loading the image\n",
    "img = cv2.imread('emily.jpg')\n",
    "# Converting the image into grayscale\n",
    "gray = cv2.cvtColor(img, cv2.COLOR_BGR2GRAY)\n",
    "# Creating variable faces\n",
    "faces = face_cascade.detectMultiScale (gray, 1.3, 5)\n",
    "# Defining and drawing the rectangle around the face\n",
    "for(x , y,  w,  h) in faces:\n",
    "    cv2.rectangle(img, (x,y) ,(x+w, y+h), (0,255,0), 3)\n",
    "cv2.imshow(\"img\", img)\n",
    "cv2.waitKey(0) # keep the window open until we press a key\n",
    "cv2.destroyAllWindows() # close the window "
   ]
  },
  {
   "cell_type": "code",
   "execution_count": 41,
   "metadata": {},
   "outputs": [],
   "source": [
    "# Converting the image into grayscale\n",
    "gray=cv2.cvtColor(img, cv2.COLOR_BGR2GRAY)\n",
    "# Creating variable faces\n",
    "faces= face_cascade.detectMultiScale (gray, 1.1, 4)\n",
    "# Defining and drawing the rectangle around the face\n",
    "for(x , y,  w,  h) in faces:\n",
    "    cv2.rectangle(img, (x,y) ,(x+w, y+h), (0,255,0), 3)\n",
    "cv2.imshow(\"img2\", img)\n",
    "cv2.waitKey(0) # keep the window open until we press a key\n",
    "cv2.destroyAllWindows() # close the window "
   ]
  },
  {
   "cell_type": "code",
   "execution_count": 42,
   "metadata": {},
   "outputs": [],
   "source": [
    "# Creating two regions of interest\n",
    "roi_gray = gray[y:(y+h), x:(x+w)]\n",
    "roi_color = img[y:(y+h), x:(x+w)]"
   ]
  },
  {
   "cell_type": "code",
   "execution_count": 43,
   "metadata": {},
   "outputs": [],
   "source": [
    "# Creating variable eyes\n",
    "eyes = eye_cascade.detectMultiScale(roi_gray, 1.1, 4)\n",
    "index=0\n",
    "# Creating for loop in order to divide one eye from another\n",
    "for (ex , ey,  ew,  eh) in eyes:\n",
    "    if index == 0:\n",
    "        eye_1 = (ex, ey, ew, eh)\n",
    "    elif index == 1:\n",
    "        eye_2 = (ex, ey, ew, eh)\n",
    "    # Drawing rectangles around the eyes\n",
    "    cv2.rectangle(roi_color, (ex,ey) ,(ex+ew, ey+eh), (0,0,255), 3)\n",
    "    index = index + 1\n",
    "cv2.imshow(\"img3\", img)\n",
    "cv2.waitKey(0) # keep the window open until we press a key\n",
    "cv2.destroyAllWindows() # close the window "
   ]
  },
  {
   "cell_type": "code",
   "execution_count": 44,
   "metadata": {},
   "outputs": [],
   "source": [
    "if eye_1[0] < eye_2[0]:\n",
    "    left_eye = eye_1\n",
    "    right_eye = eye_2\n",
    "else:\n",
    "    left_eye = eye_2\n",
    "    right_eye = eye_1"
   ]
  },
  {
   "cell_type": "code",
   "execution_count": 45,
   "metadata": {},
   "outputs": [
    {
     "data": {
      "text/plain": [
       "array([[[  0, 255,   0],\n",
       "        [  0, 255,   0],\n",
       "        [  0, 255,   0],\n",
       "        ...,\n",
       "        [  0, 255,   0],\n",
       "        [  0, 255,   0],\n",
       "        [  0, 255,   0]],\n",
       "\n",
       "       [[  0, 255,   0],\n",
       "        [  0, 255,   0],\n",
       "        [  0, 255,   0],\n",
       "        ...,\n",
       "        [  0, 255,   0],\n",
       "        [  0, 255,   0],\n",
       "        [  0, 255,   0]],\n",
       "\n",
       "       [[  0, 255,   0],\n",
       "        [  0, 255,   0],\n",
       "        [  0, 255,   0],\n",
       "        ...,\n",
       "        [  0, 255,   0],\n",
       "        [  0, 255,   0],\n",
       "        [  0, 255,   0]],\n",
       "\n",
       "       ...,\n",
       "\n",
       "       [[  0, 255,   0],\n",
       "        [  0, 255,   0],\n",
       "        [  0, 255,   0],\n",
       "        ...,\n",
       "        [ 20,  27,  44],\n",
       "        [  0, 255,   0],\n",
       "        [  0, 255,   0]],\n",
       "\n",
       "       [[  0, 255,   0],\n",
       "        [  0, 255,   0],\n",
       "        [  0, 255,   0],\n",
       "        ...,\n",
       "        [  0, 255,   0],\n",
       "        [  0, 255,   0],\n",
       "        [  0, 255,   0]],\n",
       "\n",
       "       [[  0, 255,   0],\n",
       "        [  0, 255,   0],\n",
       "        [  0, 255,   0],\n",
       "        ...,\n",
       "        [  0, 255,   0],\n",
       "        [  0, 255,   0],\n",
       "        [  0, 255,   0]]], dtype=uint8)"
      ]
     },
     "execution_count": 45,
     "metadata": {},
     "output_type": "execute_result"
    }
   ],
   "source": [
    "# Calculating coordinates of a central points of the rectangles\n",
    "left_eye_center = (int(left_eye[0] + (left_eye[2] / 2)), int(left_eye[1] + (left_eye[3] / 2)))\n",
    "left_eye_x = left_eye_center[0] \n",
    "left_eye_y = left_eye_center[1]\n",
    " \n",
    "right_eye_center = (int(right_eye[0] + (right_eye[2] / 2)), int(right_eye[1] + (right_eye[3] / 2)))\n",
    "right_eye_x = right_eye_center[0]\n",
    "right_eye_y = right_eye_center[1]\n",
    " \n",
    "cv2.circle(roi_color, left_eye_center, 5, (255, 0, 0) , -1)\n",
    "cv2.circle(roi_color, right_eye_center, 5, (255, 0, 0) , -1)\n",
    "cv2.line(roi_color,right_eye_center, left_eye_center,(0,200,200),3)"
   ]
  },
  {
   "cell_type": "code",
   "execution_count": 49,
   "metadata": {},
   "outputs": [],
   "source": [
    "if left_eye_y > right_eye_y :\n",
    "    A = (right_eye_x, left_eye_y)\n",
    "    # Integer -1 indicates that the image will rotate in the clockwise direction\n",
    "    direction = -1 \n",
    "else :\n",
    "    A = (left_eye_x, right_eye_y)\n",
    "    # Integer 1 indicates that image will rotate in the counter clockwise  \n",
    "    # direction\n",
    "    direction = 1 \n",
    "\n",
    "cv2.circle(roi_color, A, 5, (255, 0, 0) , -1)\n",
    " \n",
    "cv2.line(roi_color,right_eye_center, left_eye_center,(0,200,200),3)\n",
    "cv2.line(roi_color,left_eye_center, A,(0,200,200),3)\n",
    "cv2.line(roi_color,right_eye_center, A,(0,200,200),3)\n",
    "cv2.imshow(\"img4\", img)\n",
    "cv2.waitKey(0) # keep the window open until we press a key\n",
    "cv2.destroyAllWindows() # close the window "
   ]
  },
  {
   "cell_type": "code",
   "execution_count": 47,
   "metadata": {},
   "outputs": [],
   "source": [
    "delta_x = right_eye_x - left_eye_x\n",
    "delta_y = right_eye_y - left_eye_y\n",
    "angle = np.arctan(delta_y / delta_x)\n",
    "angle = (angle * 180) / np.pi"
   ]
  },
  {
   "cell_type": "code",
   "execution_count": 48,
   "metadata": {},
   "outputs": [],
   "source": [
    "# Width and height of the image\n",
    "h, w = img.shape[:2]\n",
    "# Calculating a center point of the image\n",
    "# Integer division \"//\"\" ensures that we receive whole numbers\n",
    "center = (w // 2, h // 2)\n",
    "# Defining a matrix M and calling\n",
    "# cv2.getRotationMatrix2D method\n",
    "M = cv2.getRotationMatrix2D(center, (angle), 1.0)\n",
    "# Applying the rotation to our image using the\n",
    "# cv2.warpAffine method\n",
    "rotated = cv2.warpAffine(img, M, (w, h))\n",
    "cv2.imshow(\"rotated\", rotated)\n",
    "cv2.waitKey(0) # keep the window open until we press a key\n",
    "cv2.destroyAllWindows() # close the window "
   ]
  },
  {
   "cell_type": "markdown",
   "metadata": {},
   "source": [
    "### Other Example"
   ]
  },
  {
   "cell_type": "code",
   "execution_count": null,
   "metadata": {},
   "outputs": [],
   "source": [
    "np_array = []\n",
    "imagePath = './knn_dlib/hyFS'\n",
    "\n",
    "#for i in range(len(imagePath)) :\n",
    " #   img = cv2.imread(imagePath[i])\n",
    "  #  np_array.append(np.array(img))\n",
    "   # result = np.array(np_array)\n",
    "    \n",
    "result = np.array( [np.array(cv2.imread(imagePath[i])) for i in range(len(imagePath))] )\n",
    "\n",
    "pixels = result.flatten()#.reshape(result.shape[0], result.shape[1])\n",
    "print(pixels.shape)\n",
    "print(pixels.ndim)"
   ]
  },
  {
   "cell_type": "code",
   "execution_count": null,
   "metadata": {},
   "outputs": [],
   "source": [
    "    \n",
    "result = np.array( [np.array(cv2.imread('./knn_dlib/hyFS/hyFS_1.jpg'))] )\n",
    "#print(result)\n",
    "pixels = result.flatten()#.reshape(result.shape[0], result.shape[1])\n",
    "#print(pixels.shape)\n",
    "#print(pixels.ndim)"
   ]
  },
  {
   "cell_type": "code",
   "execution_count": 32,
   "metadata": {},
   "outputs": [],
   "source": [
    "import cv2\n",
    "import math\n",
    "face_detector = cv2.CascadeClassifier(\"haarcascade_frontalface_default.xml\")\n",
    "eye_detector = cv2.CascadeClassifier(\"haarcascade_eye.xml\")"
   ]
  },
  {
   "cell_type": "code",
   "execution_count": 16,
   "metadata": {},
   "outputs": [],
   "source": [
    "img = cv2.imread(\"emily.jpg\")\n",
    "img_raw = img.copy()"
   ]
  },
  {
   "cell_type": "code",
   "execution_count": 19,
   "metadata": {},
   "outputs": [],
   "source": [
    "faces = face_detector.detectMultiScale(img, 1.3, 5)\n",
    "for (x, y, w, h) in faces : \n",
    "    cv2.rectangle(img, (x,y) ,(x+w, y+h), (0,255,0), 3)\n",
    "cv2.imshow(\"img1\", img)\n",
    "cv2.waitKey(0) # keep the window open until we press a key\n",
    "cv2.destroyAllWindows() # close the window\n",
    "img = img[int(y):int(y+h), int(x):int(x+w)]\n",
    "img_gray = cv2.cvtColor(img, cv2.COLOR_BGR2GRAY)"
   ]
  },
  {
   "cell_type": "code",
   "execution_count": 22,
   "metadata": {},
   "outputs": [],
   "source": [
    "eyes = eye_detector.detectMultiScale(img_gray)\n",
    " \n",
    "index = 0\n",
    "for (eye_x, eye_y, eye_w, eye_h) in eyes:\n",
    "    if index == 0:\n",
    "        eye_1 = (eye_x, eye_y, eye_w, eye_h)\n",
    "    elif index == 1:\n",
    "        eye_2 = (eye_x, eye_y, eye_w, eye_h)\n",
    " \n",
    "    cv2.rectangle(img,(eye_x, eye_y),(eye_x+eye_w, eye_y+eye_h), (0,255,0), 2)\n",
    "    index = index + 1\n",
    "cv2.imshow(\"img2\", img)\n",
    "cv2.waitKey(0) # keep the window open until we press a key\n",
    "cv2.destroyAllWindows() # close the window"
   ]
  },
  {
   "cell_type": "code",
   "execution_count": 23,
   "metadata": {},
   "outputs": [],
   "source": [
    "if eye_1[0] < eye_2[0]:\n",
    "    left_eye = eye_1\n",
    "    right_eye = eye_2\n",
    "else:\n",
    "    left_eye = eye_2\n",
    "    right_eye = eye_1"
   ]
  },
  {
   "cell_type": "code",
   "execution_count": 24,
   "metadata": {},
   "outputs": [
    {
     "data": {
      "text/plain": [
       "array([[[180, 197, 200],\n",
       "        [181, 198, 201],\n",
       "        [182, 199, 202],\n",
       "        ...,\n",
       "        [191, 208, 205],\n",
       "        [190, 207, 203],\n",
       "        [190, 207, 204]],\n",
       "\n",
       "       [[180, 197, 200],\n",
       "        [179, 196, 199],\n",
       "        [179, 196, 199],\n",
       "        ...,\n",
       "        [199, 213, 211],\n",
       "        [197, 214, 210],\n",
       "        [198, 213, 209]],\n",
       "\n",
       "       [[178, 195, 198],\n",
       "        [179, 196, 199],\n",
       "        [181, 198, 201],\n",
       "        ...,\n",
       "        [197, 210, 208],\n",
       "        [196, 210, 208],\n",
       "        [197, 210, 208]],\n",
       "\n",
       "       ...,\n",
       "\n",
       "       [[242, 247, 250],\n",
       "        [234, 243, 255],\n",
       "        [233, 248, 255],\n",
       "        ...,\n",
       "        [ 34,  29,  28],\n",
       "        [ 34,  29,  28],\n",
       "        [ 34,  29,  28]],\n",
       "\n",
       "       [[240, 246, 251],\n",
       "        [238, 249, 255],\n",
       "        [187, 203, 226],\n",
       "        ...,\n",
       "        [ 34,  29,  28],\n",
       "        [ 34,  29,  28],\n",
       "        [ 34,  29,  28]],\n",
       "\n",
       "       [[238, 246, 253],\n",
       "        [232, 244, 255],\n",
       "        [123, 140, 167],\n",
       "        ...,\n",
       "        [ 34,  29,  28],\n",
       "        [ 34,  29,  28],\n",
       "        [ 34,  29,  28]]], dtype=uint8)"
      ]
     },
     "execution_count": 24,
     "metadata": {},
     "output_type": "execute_result"
    }
   ],
   "source": [
    "left_eye_center = (int(left_eye[0] + (left_eye[2] / 2)), int(left_eye[1] + (left_eye[3] / 2)))\n",
    "left_eye_x = left_eye_center[0]; left_eye_y = left_eye_center[1]\n",
    " \n",
    "right_eye_center = (int(right_eye[0] + (right_eye[2]/2)), int(right_eye[1] + (right_eye[3]/2)))\n",
    "right_eye_x = right_eye_center[0]; right_eye_y = right_eye_center[1]\n",
    " \n",
    "cv2.circle(img, left_eye_center, 2, (255, 0, 0) , 2)\n",
    "cv2.circle(img, right_eye_center, 2, (255, 0, 0) , 2)\n",
    "cv2.line(img,right_eye_center, left_eye_center,(67,67,67),2)"
   ]
  },
  {
   "cell_type": "code",
   "execution_count": 27,
   "metadata": {},
   "outputs": [
    {
     "name": "stdout",
     "output_type": "stream",
     "text": [
      "rotate to clock direction\n"
     ]
    },
    {
     "data": {
      "text/plain": [
       "array([[[180, 197, 200],\n",
       "        [181, 198, 201],\n",
       "        [182, 199, 202],\n",
       "        ...,\n",
       "        [191, 208, 205],\n",
       "        [190, 207, 203],\n",
       "        [190, 207, 204]],\n",
       "\n",
       "       [[180, 197, 200],\n",
       "        [179, 196, 199],\n",
       "        [179, 196, 199],\n",
       "        ...,\n",
       "        [199, 213, 211],\n",
       "        [197, 214, 210],\n",
       "        [198, 213, 209]],\n",
       "\n",
       "       [[178, 195, 198],\n",
       "        [179, 196, 199],\n",
       "        [181, 198, 201],\n",
       "        ...,\n",
       "        [197, 210, 208],\n",
       "        [196, 210, 208],\n",
       "        [197, 210, 208]],\n",
       "\n",
       "       ...,\n",
       "\n",
       "       [[242, 247, 250],\n",
       "        [234, 243, 255],\n",
       "        [233, 248, 255],\n",
       "        ...,\n",
       "        [ 34,  29,  28],\n",
       "        [ 34,  29,  28],\n",
       "        [ 34,  29,  28]],\n",
       "\n",
       "       [[240, 246, 251],\n",
       "        [238, 249, 255],\n",
       "        [187, 203, 226],\n",
       "        ...,\n",
       "        [ 34,  29,  28],\n",
       "        [ 34,  29,  28],\n",
       "        [ 34,  29,  28]],\n",
       "\n",
       "       [[238, 246, 253],\n",
       "        [232, 244, 255],\n",
       "        [123, 140, 167],\n",
       "        ...,\n",
       "        [ 34,  29,  28],\n",
       "        [ 34,  29,  28],\n",
       "        [ 34,  29,  28]]], dtype=uint8)"
      ]
     },
     "execution_count": 27,
     "metadata": {},
     "output_type": "execute_result"
    }
   ],
   "source": [
    "if left_eye_y < right_eye_y:\n",
    "    point_3rd = (right_eye_x, left_eye_y)\n",
    "    direction = -1 #rotate same direction to clock\n",
    "    print(\"rotate to clock direction\")\n",
    "else:\n",
    "    point_3rd = (left_eye_x, right_eye_y)\n",
    "    direction = 1 #rotate inverse direction of clock\n",
    "    print(\"rotate to inverse clock direction\")\n",
    "\n",
    "cv2.circle(img, point_3rd, 2, (255, 0, 0) , 2)\n",
    " \n",
    "cv2.line(img,right_eye_center, left_eye_center,(67,67,67),2)\n",
    "cv2.line(img,left_eye_center, point_3rd,(67,67,67),2)\n",
    "cv2.line(img,right_eye_center, point_3rd,(67,67,67),2)"
   ]
  },
  {
   "cell_type": "code",
   "execution_count": 30,
   "metadata": {},
   "outputs": [],
   "source": [
    "def euclidean_distance(a, b):\n",
    "    x1 = a[0]; y1 = a[1]\n",
    "    x2 = b[0]; y2 = b[1]\n",
    "    return math.sqrt(((x2 - x1) * (x2 - x1)) + ((y2 - y1) * (y2 - y1)))"
   ]
  },
  {
   "cell_type": "code",
   "execution_count": 33,
   "metadata": {},
   "outputs": [],
   "source": [
    "a = euclidean_distance(left_eye_center, point_3rd)\n",
    "b = euclidean_distance(right_eye_center, left_eye_center)\n",
    "c = euclidean_distance(right_eye_center, point_3rd)"
   ]
  },
  {
   "cell_type": "code",
   "execution_count": 34,
   "metadata": {},
   "outputs": [
    {
     "name": "stdout",
     "output_type": "stream",
     "text": [
      "cos(a) =  0.49972245348957717\n",
      "angle:  1.047518004662921  in radian\n",
      "angle:  60.01836063115067  in degree\n"
     ]
    }
   ],
   "source": [
    "cos_a = (b*b + c*c - a*a)/(2*b*c)\n",
    "print(\"cos(a) = \", cos_a)\n",
    " \n",
    "angle = np.arccos(cos_a)\n",
    "print(\"angle: \", angle,\" in radian\")\n",
    " \n",
    "angle = (angle * 180) / math.pi\n",
    "print(\"angle: \", angle,\" in degree\")"
   ]
  },
  {
   "cell_type": "code",
   "execution_count": 36,
   "metadata": {},
   "outputs": [],
   "source": [
    "if direction == -1:\n",
    "    angle = 90 - angle"
   ]
  },
  {
   "cell_type": "code",
   "execution_count": 37,
   "metadata": {},
   "outputs": [],
   "source": [
    "from PIL import Image\n",
    "new_img = Image.fromarray(img_raw)\n",
    "new_img = np.array(new_img.rotate(direction * angle))"
   ]
  },
  {
   "cell_type": "code",
   "execution_count": null,
   "metadata": {},
   "outputs": [],
   "source": []
  }
 ],
 "metadata": {
  "kernelspec": {
   "display_name": "Python 3",
   "language": "python",
   "name": "python3"
  },
  "language_info": {
   "codemirror_mode": {
    "name": "ipython",
    "version": 3
   },
   "file_extension": ".py",
   "mimetype": "text/x-python",
   "name": "python",
   "nbconvert_exporter": "python",
   "pygments_lexer": "ipython3",
   "version": "3.8.3"
  }
 },
 "nbformat": 4,
 "nbformat_minor": 4
}
